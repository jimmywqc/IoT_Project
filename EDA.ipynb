{
 "cells": [
  {
   "cell_type": "code",
   "execution_count": 1,
   "metadata": {},
   "outputs": [],
   "source": [
    "import pandas as pd\n",
    "import numpy as np\n",
    "import zipfile"
   ]
  },
  {
   "cell_type": "code",
   "execution_count": 2,
   "metadata": {},
   "outputs": [
    {
     "data": {
      "text/plain": [
       "'C:\\\\Files\\\\Jupyter\\\\IoT\\\\赛题二-初赛'"
      ]
     },
     "execution_count": 2,
     "metadata": {},
     "output_type": "execute_result"
    }
   ],
   "source": [
    "import os\n",
    "os.getcwd()"
   ]
  },
  {
   "cell_type": "code",
   "execution_count": 3,
   "metadata": {},
   "outputs": [],
   "source": [
    "os.chdir('C:\\\\Files\\\\Jupyter\\\\IoT\\\\赛题二-初赛')"
   ]
  },
  {
   "cell_type": "code",
   "execution_count": 9,
   "metadata": {},
   "outputs": [],
   "source": [
    "# 检查train_data的Phase变化是否相同\n",
    "variables1 = ['Phase']\n",
    "TRAIN_ZIP=zipfile.ZipFile('.\\Train\\传感器高频数据.zip')\n",
    "file_list=TRAIN_ZIP.namelist()\n",
    "\n",
    "mode_data_Phase = {}\n",
    "\n",
    "for i, f in enumerate(file_list):\n",
    "    df = pd.read_csv(TRAIN_ZIP.open(f))\n",
    "    mold_id = f.split('_')[3].replace('.csv', '')\n",
    "    Phase = str(set(df['Phase']))\n",
    "    mode_data_Phase[Phase] = mold_id"
   ]
  },
  {
   "cell_type": "code",
   "execution_count": 27,
   "metadata": {},
   "outputs": [
    {
     "data": {
      "text/plain": [
       "{'{1.0, 3.0, 4.0, 6.0, 7.0, 8.0, 10.0, 11.0, 12.0, 14.0, 18.0}': '48895',\n",
       " '{1, 3, 4, 6, 7, 8, 10, 11, 12, 14, 18}': '150716',\n",
       " '{0, 1, 3, 4, 6, 7, 8, 10, 11, 12, 14, 18}': '82774',\n",
       " '{1, 3, 4, 6, 7, 8, 10, 11, 12, 18}': '148466'}"
      ]
     },
     "execution_count": 27,
     "metadata": {},
     "output_type": "execute_result"
    }
   ],
   "source": [
    "mode_data_Phase"
   ]
  },
  {
   "cell_type": "code",
   "execution_count": 49,
   "metadata": {},
   "outputs": [],
   "source": [
    "# 训练集同一模式\n",
    "\n",
    "# 检查Test_data的Phase变化是否相同\n",
    "variables1 = ['Phase']\n",
    "TEST_ZIP=zipfile.ZipFile('.\\Test\\传感器高频数据.zip')\n",
    "file_list=TEST_ZIP.namelist()\n",
    "\n",
    "mode_data_Phase = {}\n",
    "\n",
    "for i, f in enumerate(file_list):\n",
    "    df = pd.read_csv(TEST_ZIP.open(f))\n",
    "    mold_id = f.split('_')[3].replace('.csv', '')\n",
    "    Phase = str(set(df['Phase']))\n",
    "    mode_data_Phase[Phase] = mold_id"
   ]
  },
  {
   "cell_type": "code",
   "execution_count": 50,
   "metadata": {},
   "outputs": [
    {
     "data": {
      "text/plain": [
       "{'{1, 3, 4, 6, 7, 8, 10, 11, 12, 14, 18}': '176241'}"
      ]
     },
     "execution_count": 50,
     "metadata": {},
     "output_type": "execute_result"
    }
   ],
   "source": [
    "mode_data_Phase"
   ]
  },
  {
   "cell_type": "markdown",
   "metadata": {},
   "source": [
    "# 比对合格/残次 与 流程异常的关系"
   ]
  },
  {
   "cell_type": "code",
   "execution_count": 51,
   "metadata": {},
   "outputs": [],
   "source": [
    "Labels = pd.read_csv('.\\Train\\Size.csv',index_col=None)"
   ]
  },
  {
   "cell_type": "code",
   "execution_count": 52,
   "metadata": {},
   "outputs": [
    {
     "data": {
      "text/html": [
       "<div>\n",
       "<style scoped>\n",
       "    .dataframe tbody tr th:only-of-type {\n",
       "        vertical-align: middle;\n",
       "    }\n",
       "\n",
       "    .dataframe tbody tr th {\n",
       "        vertical-align: top;\n",
       "    }\n",
       "\n",
       "    .dataframe thead th {\n",
       "        text-align: right;\n",
       "    }\n",
       "</style>\n",
       "<table border=\"1\" class=\"dataframe\">\n",
       "  <thead>\n",
       "    <tr style=\"text-align: right;\">\n",
       "      <th></th>\n",
       "      <th>size1</th>\n",
       "      <th>size2</th>\n",
       "      <th>size3</th>\n",
       "      <th>Id</th>\n",
       "    </tr>\n",
       "  </thead>\n",
       "  <tbody>\n",
       "    <tr>\n",
       "      <th>0</th>\n",
       "      <td>299.998</td>\n",
       "      <td>199.995</td>\n",
       "      <td>199.967</td>\n",
       "      <td>33722</td>\n",
       "    </tr>\n",
       "    <tr>\n",
       "      <th>1</th>\n",
       "      <td>299.999</td>\n",
       "      <td>199.938</td>\n",
       "      <td>199.956</td>\n",
       "      <td>34803</td>\n",
       "    </tr>\n",
       "    <tr>\n",
       "      <th>2</th>\n",
       "      <td>299.958</td>\n",
       "      <td>199.916</td>\n",
       "      <td>199.947</td>\n",
       "      <td>36621</td>\n",
       "    </tr>\n",
       "    <tr>\n",
       "      <th>3</th>\n",
       "      <td>299.974</td>\n",
       "      <td>199.930</td>\n",
       "      <td>199.961</td>\n",
       "      <td>36622</td>\n",
       "    </tr>\n",
       "    <tr>\n",
       "      <th>4</th>\n",
       "      <td>299.959</td>\n",
       "      <td>199.915</td>\n",
       "      <td>199.949</td>\n",
       "      <td>36623</td>\n",
       "    </tr>\n",
       "    <tr>\n",
       "      <th>...</th>\n",
       "      <td>...</td>\n",
       "      <td>...</td>\n",
       "      <td>...</td>\n",
       "      <td>...</td>\n",
       "    </tr>\n",
       "    <tr>\n",
       "      <th>16595</th>\n",
       "      <td>300.141</td>\n",
       "      <td>200.191</td>\n",
       "      <td>200.091</td>\n",
       "      <td>150696</td>\n",
       "    </tr>\n",
       "    <tr>\n",
       "      <th>16596</th>\n",
       "      <td>300.150</td>\n",
       "      <td>200.166</td>\n",
       "      <td>200.091</td>\n",
       "      <td>150701</td>\n",
       "    </tr>\n",
       "    <tr>\n",
       "      <th>16597</th>\n",
       "      <td>300.137</td>\n",
       "      <td>200.171</td>\n",
       "      <td>200.083</td>\n",
       "      <td>150706</td>\n",
       "    </tr>\n",
       "    <tr>\n",
       "      <th>16598</th>\n",
       "      <td>300.148</td>\n",
       "      <td>200.186</td>\n",
       "      <td>200.103</td>\n",
       "      <td>150711</td>\n",
       "    </tr>\n",
       "    <tr>\n",
       "      <th>16599</th>\n",
       "      <td>300.144</td>\n",
       "      <td>200.164</td>\n",
       "      <td>200.092</td>\n",
       "      <td>150716</td>\n",
       "    </tr>\n",
       "  </tbody>\n",
       "</table>\n",
       "<p>16600 rows × 4 columns</p>\n",
       "</div>"
      ],
      "text/plain": [
       "         size1    size2    size3      Id\n",
       "0      299.998  199.995  199.967   33722\n",
       "1      299.999  199.938  199.956   34803\n",
       "2      299.958  199.916  199.947   36621\n",
       "3      299.974  199.930  199.961   36622\n",
       "4      299.959  199.915  199.949   36623\n",
       "...        ...      ...      ...     ...\n",
       "16595  300.141  200.191  200.091  150696\n",
       "16596  300.150  200.166  200.091  150701\n",
       "16597  300.137  200.171  200.083  150706\n",
       "16598  300.148  200.186  200.103  150711\n",
       "16599  300.144  200.164  200.092  150716\n",
       "\n",
       "[16600 rows x 4 columns]"
      ]
     },
     "execution_count": 52,
     "metadata": {},
     "output_type": "execute_result"
    }
   ],
   "source": [
    "Labels"
   ]
  },
  {
   "cell_type": "code",
   "execution_count": 65,
   "metadata": {},
   "outputs": [],
   "source": [
    "flag1 = Labels['size1']<=300.15\n",
    "flag2 = Labels['size1']>=299.85\n",
    "flag3 = Labels['size2']<=200.075\n",
    "flag4 = Labels['size2']>=199.925\n",
    "flag5 = Labels['size3']<=200.075\n",
    "flag6 = Labels['size3']>=199.925"
   ]
  },
  {
   "cell_type": "code",
   "execution_count": 73,
   "metadata": {},
   "outputs": [],
   "source": [
    "flag = flag1 & flag2 & flag3 & flag4 & flag5 & flag6"
   ]
  },
  {
   "cell_type": "code",
   "execution_count": 80,
   "metadata": {},
   "outputs": [],
   "source": [
    "passed = np.array(Labels[flag]['Id'])\n",
    "failed = np.array(Labels[flag==False]['Id'])"
   ]
  },
  {
   "cell_type": "code",
   "execution_count": 151,
   "metadata": {},
   "outputs": [
    {
     "data": {
      "text/plain": [
       "(13370, 3230)"
      ]
     },
     "execution_count": 151,
     "metadata": {},
     "output_type": "execute_result"
    }
   ],
   "source": [
    "len(passed),len(failed)"
   ]
  },
  {
   "cell_type": "code",
   "execution_count": 92,
   "metadata": {},
   "outputs": [],
   "source": [
    "routing1 = {1, 3, 4, 6, 7, 8, 10, 11, 12, 14, 18}\n",
    "routing2 = {0, 1, 3, 4, 6, 7, 8, 10, 11, 12, 14, 18}\n",
    "routing3 = {1, 3, 4, 6, 7, 8, 10, 11, 12, 18}"
   ]
  },
  {
   "cell_type": "code",
   "execution_count": 93,
   "metadata": {},
   "outputs": [],
   "source": [
    "# 检查train_data的Phase变化是否相同\n",
    "TRAIN_ZIP=zipfile.ZipFile('.\\Train\\传感器高频数据.zip')\n",
    "file_list=TRAIN_ZIP.namelist()\n",
    "\n",
    "Routing1_ID = []\n",
    "Routing2_ID = []\n",
    "Routing3_ID = []\n",
    "\n",
    "for i, f in enumerate(file_list):\n",
    "    df = pd.read_csv(TRAIN_ZIP.open(f))\n",
    "    mold_id = f.split('_')[3].replace('.csv', '')\n",
    "    Phase = set(df['Phase'])\n",
    "    if Phase == routing1:\n",
    "        Routing1_ID.append(mold_id)\n",
    "    elif Phase == routing2:\n",
    "        Routing2_ID.append(mold_id)\n",
    "    else:\n",
    "        Routing3_ID.append(mold_id)"
   ]
  },
  {
   "cell_type": "code",
   "execution_count": 94,
   "metadata": {},
   "outputs": [
    {
     "data": {
      "text/plain": [
       "(16596, 2, 2)"
      ]
     },
     "execution_count": 94,
     "metadata": {},
     "output_type": "execute_result"
    }
   ],
   "source": [
    "len(Routing1_ID), len(Routing2_ID), len(Routing3_ID)"
   ]
  },
  {
   "cell_type": "code",
   "execution_count": 95,
   "metadata": {},
   "outputs": [],
   "source": [
    "# 大多数正常。。。。"
   ]
  },
  {
   "cell_type": "code",
   "execution_count": 96,
   "metadata": {},
   "outputs": [],
   "source": [
    "# 按Phase提取特征"
   ]
  },
  {
   "cell_type": "code",
   "execution_count": 129,
   "metadata": {},
   "outputs": [
    {
     "name": "stdout",
     "output_type": "stream",
     "text": [
      "49897\n",
      "82774\n",
      "82793\n",
      "148466\n"
     ]
    }
   ],
   "source": [
    "# 检查train_data的Phase变化是否相同\n",
    "import torch\n",
    "\n",
    "TRAIN_ZIP=zipfile.ZipFile('.\\Train\\传感器高频数据.zip')\n",
    "file_list=TRAIN_ZIP.namelist()\n",
    "\n",
    "mold_train_x = []\n",
    "\n",
    "for i, f in enumerate(file_list):\n",
    "    df = pd.read_csv(TRAIN_ZIP.open(f))\n",
    "    mold_id = f.split('_')[3].replace('.csv', '')\n",
    "    Phase = set(df['Phase'].astype(int))\n",
    "    if Phase == routing1:\n",
    "        mold_train_x.extend(torch.tensor(tmp1.groupby(['Phase']).mean().sort_values(by=['SampleTime']).iloc[:,1:].values))\n",
    "    else:\n",
    "        print(mold_id)\n",
    "\n",
    "traindata_x = torch.stack(mold_train_x).view(-1,1,11,22)"
   ]
  },
  {
   "cell_type": "code",
   "execution_count": 150,
   "metadata": {},
   "outputs": [],
   "source": [
    "Labels = pd.read_csv('.\\Train\\Size.csv',index_col=None)\n",
    "\n",
    "\n",
    "\n",
    "IDS = [49897,82774,82793,148466]\n",
    "\n",
    "Labels.drop(Labels[Labels['Id'].isin(IDS)].index)\n",
    "\n",
    "train_y1 = torch.tensor(Labels['size1'].values).view(-1,1)\n",
    "train_y2 = torch.tensor(Labels['size2'].values).view(-1,1)\n",
    "train_y3 = torch.tensor(Labels['size3'].values).view(-1,1)"
   ]
  },
  {
   "cell_type": "code",
   "execution_count": null,
   "metadata": {},
   "outputs": [],
   "source": []
  }
 ],
 "metadata": {
  "kernelspec": {
   "display_name": "Python 3",
   "language": "python",
   "name": "python3"
  },
  "language_info": {
   "codemirror_mode": {
    "name": "ipython",
    "version": 3
   },
   "file_extension": ".py",
   "mimetype": "text/x-python",
   "name": "python",
   "nbconvert_exporter": "python",
   "pygments_lexer": "ipython3",
   "version": "3.7.5"
  }
 },
 "nbformat": 4,
 "nbformat_minor": 2
}
